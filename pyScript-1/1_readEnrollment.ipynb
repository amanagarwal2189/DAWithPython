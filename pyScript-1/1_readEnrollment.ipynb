{
 "cells": [
  {
   "cell_type": "code",
   "execution_count": null,
   "metadata": {
    "collapsed": true
   },
   "outputs": [],
   "source": [
    "import unicodecsv\n",
    "\n",
    "enrollments = []\n",
    "\n",
    "f=open('D:\\Github\\DAWithPython\\pyScript\\data\\enrollments.csv','rb')\n",
    "reader = unicodecsv.DictReader(f)\n",
    "\n",
    "for r in reader:\n",
    "    enrollments.append(r)\n",
    "\n",
    "f.close()\n",
    "print(enrollments[0])"
   ]
  }
 ],
 "metadata": {
  "kernelspec": {
   "display_name": "Python 3",
   "language": "python",
   "name": "python3"
  },
  "language_info": {
   "codemirror_mode": {
    "name": "ipython",
    "version": 3
   },
   "file_extension": ".py",
   "mimetype": "text/x-python",
   "name": "python",
   "nbconvert_exporter": "python",
   "pygments_lexer": "ipython3",
   "version": "3.5.1"
  }
 },
 "nbformat": 4,
 "nbformat_minor": 0
}
