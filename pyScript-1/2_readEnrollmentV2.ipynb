{
 "cells": [
  {
   "cell_type": "code",
   "execution_count": null,
   "metadata": {
    "collapsed": true
   },
   "outputs": [],
   "source": [
    "import unicodecsv\n",
    "enrollment_filename= 'D:\\Github\\DAWithPython\\pyScript\\data\\enrollments.csv'\n",
    "with open(enrollment_filename,'rb') as f:\n",
    "    reader = unicodecsv.DictReader(f)\n",
    "    enrollments=list(reader)\n",
    "    print(enrollments[0])\n",
    "    "
   ]
  }
 ],
 "metadata": {
  "kernelspec": {
   "display_name": "Python 3",
   "language": "python",
   "name": "python3"
  },
  "language_info": {
   "codemirror_mode": {
    "name": "ipython",
    "version": 3
   },
   "file_extension": ".py",
   "mimetype": "text/x-python",
   "name": "python",
   "nbconvert_exporter": "python",
   "pygments_lexer": "ipython3",
   "version": "3.5.1"
  }
 },
 "nbformat": 4,
 "nbformat_minor": 0
}
