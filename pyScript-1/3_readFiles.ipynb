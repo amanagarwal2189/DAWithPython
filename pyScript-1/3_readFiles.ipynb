{
 "cells": [
  {
   "cell_type": "code",
   "execution_count": 2,
   "metadata": {
    "collapsed": false
   },
   "outputs": [
    {
     "name": "stdout",
     "output_type": "stream",
     "text": [
      "{'cancel_date': '2015-01-14', 'account_key': '448', 'status': 'canceled', 'is_canceled': 'True', 'is_udacity': 'True', 'days_to_cancel': '65', 'join_date': '2014-11-10'}\n",
      "{'acct': '0', 'utc_date': '2015-01-09', 'num_courses_visited': '1.0', 'lessons_completed': '0.0', 'projects_completed': '0.0', 'total_minutes_visited': '11.6793745'}\n",
      "{'account_key': '256', 'processing_state': 'EVALUATED', 'lesson_key': '3176718735', 'creation_date': '2015-01-14', 'assigned_rating': 'UNGRADED', 'completion_date': '2015-01-16'}\n"
     ]
    }
   ],
   "source": [
    "import unicodecsv\n",
    "enrollment_filename= 'D:\\Github\\DAWithPython\\pyScript\\data\\enrollments.csv'\n",
    "dailyEngagement_filename= 'D:\\Github\\DAWithPython\\pyScript\\data\\daily_engagement.csv'\n",
    "projectsubmissions_filename= 'D:\\Github\\DAWithPython\\pyScript\\data\\project_submissions.csv'\n",
    "with open(enrollment_filename,'rb') as f:\n",
    "    reader = unicodecsv.DictReader(f)\n",
    "    enrollments=list(reader)\n",
    "    print(enrollments[0])\n",
    "\n",
    "with open(dailyEngagement_filename,'rb') as f:\n",
    "    reader = unicodecsv.DictReader(f)\n",
    "    dailyEngagement=list(reader)\n",
    "    print(dailyEngagement[0])\n",
    "\n",
    "with open(projectsubmissions_filename,'rb') as f:\n",
    "    reader = unicodecsv.DictReader(f)\n",
    "    projectsubmissions=list(reader)\n",
    "    print(projectsubmissions[0])"
   ]
  },
  {
   "cell_type": "code",
   "execution_count": null,
   "metadata": {
    "collapsed": true
   },
   "outputs": [],
   "source": []
  }
 ],
 "metadata": {
  "kernelspec": {
   "display_name": "Python 3",
   "language": "python",
   "name": "python3"
  },
  "language_info": {
   "codemirror_mode": {
    "name": "ipython",
    "version": 3
   },
   "file_extension": ".py",
   "mimetype": "text/x-python",
   "name": "python",
   "nbconvert_exporter": "python",
   "pygments_lexer": "ipython3",
   "version": "3.5.1"
  }
 },
 "nbformat": 4,
 "nbformat_minor": 0
}
