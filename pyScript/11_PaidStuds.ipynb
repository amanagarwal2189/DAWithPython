{
 "cells": [
  {
   "cell_type": "code",
   "execution_count": null,
   "metadata": {
    "collapsed": true
   },
   "outputs": [],
   "source": [
    "import unicodecsv\n",
    "from datetime import datetime as dt\n",
    "\n",
    "enrollment_filename= 'D:\\Github\\DAWithPython\\pyScript\\data\\enrollments.csv'\n",
    "dailyEngagement_filename= 'D:\\Github\\DAWithPython\\pyScript\\data\\daily_engagement.csv'\n",
    "projectsubmissions_filename= 'D:\\Github\\DAWithPython\\pyScript\\data\\project_submissions.csv'\n",
    "\n",
    "#read file\n",
    "def readCsv(filename):\n",
    "    with open(filename,'rb') as f:\n",
    "        reader = unicodecsv.DictReader(f)\n",
    "        return list(reader)\n",
    "\n",
    "enrollments=readCsv(enrollment_filename)\n",
    "dailyEngagements=readCsv(dailyEngagement_filename)\n",
    "projectsubmissions=readCsv(projectsubmissions_filename)\n",
    "\n",
    "#format data\n",
    "def parse_int(i):\n",
    "    if i==None or i=='':\n",
    "        return None\n",
    "    else:\n",
    "        return int(i)\n",
    "\n",
    "def parse_date(date):\n",
    "    if date==None or date=='':\n",
    "        return None\n",
    "    else:\n",
    "        return dt.strptime(date, '%Y-%m-%d')\n",
    "\n",
    "def parse_float(f):\n",
    "    if f==None or f=='':\n",
    "        return 0.0\n",
    "    else:\n",
    "        return float(f)\n",
    "\n",
    "def getUniqueSet(di):\n",
    "    uniqueSet=set()    \n",
    "    for d in di:\n",
    "        uniqueSet.add(d['account_key'])\n",
    "    return uniqueSet\n",
    "\n",
    "for enrollment in enrollments:\n",
    "    enrollment['days_to_cancel'] = parse_int(enrollment['days_to_cancel'])\n",
    "    enrollment['is_canceled'] = enrollment['is_canceled']=='True'\n",
    "    enrollment['join_date'] = parse_date(enrollment['join_date'])\n",
    "    enrollment['is_udacity'] = enrollment['is_udacity']=='True'\n",
    "    enrollment['cancel_date'] = parse_date(enrollment['cancel_date'])\n",
    "\n",
    "for dailyEngagement in dailyEngagements:\n",
    "    dailyEngagement['lessons_completed'] = parse_float(dailyEngagement['lessons_completed'])\n",
    "    dailyEngagement['projects_completed'] = parse_float(dailyEngagement['projects_completed'])\n",
    "    dailyEngagement['total_minutes_visited'] = parse_float(dailyEngagement['total_minutes_visited'])\n",
    "    dailyEngagement['utc_date'] = parse_date(dailyEngagement['utc_date'])\n",
    "    dailyEngagement['num_courses_visited'] = int(parse_float(dailyEngagement['num_courses_visited']))\n",
    "    dailyEngagement['account_key'] = dailyEngagement['acct']\n",
    "    del[dailyEngagement['acct']]\n",
    "\n",
    "for projectsubmission in projectsubmissions:\n",
    "    projectsubmission['completion_date'] = parse_date(projectsubmission['completion_date'])\n",
    "    projectsubmission['creation_date'] = parse_date(projectsubmission['creation_date'])\n",
    "    \n",
    "#get unique data\n",
    "##to get unique values in the dictionary\n",
    "unique_enrolled_students = getUniqueSet(enrollments)\n",
    "unique_daily_engagements = getUniqueSet(dailyEngagements)\n",
    "unique_project_submissions = getUniqueSet(projectsubmissions)\n",
    "        \n",
    "##########THIS IS NEW HERE###################\n",
    "#to remove ud accounts data from all the lists\n",
    "ud_Acct=set()\n",
    "for enrollment in enrollments:\n",
    "    if enrollment['is_udacity']:\n",
    "        ud_Acct.add(enrollment['account_key'])\n",
    "\n",
    "def removeUdAcct(di):\n",
    "    nonud=[]    \n",
    "    for d in di:\n",
    "        if d['account_key'] not in ud_Acct:\n",
    "           nonud.append(d)\n",
    "    return nonud\n",
    "\n",
    "nonud_enroll=removeUdAcct(enrollments)\n",
    "nonud_engagement=removeUdAcct(dailyEngagements)\n",
    "nonud_projSubmission=removeUdAcct(projectsubmissions)"
   ]
  },
  {
   "cell_type": "markdown",
   "metadata": {},
   "source": [
    "##to get the dictionary of students who havent cancelled or have cancelled atleast 8 days after joining"
   ]
  },
  {
   "cell_type": "code",
   "execution_count": 20,
   "metadata": {
    "collapsed": false
   },
   "outputs": [],
   "source": [
    "paid_students=dict()\n",
    "for stud in nonud_enroll:\n",
    "    if not stud['is_canceled'] or stud['days_to_cancel']>7:\n",
    "        account_key=stud['account_key']\n",
    "        date = stud['join_date']\n",
    "        if stud['account_key'] not in paid_students or date>paid_students[account_key]:\n",
    "            paid_students[account_key]=date"
   ]
  },
  {
   "cell_type": "code",
   "execution_count": 44,
   "metadata": {
    "collapsed": false
   },
   "outputs": [
    {
     "name": "stdout",
     "output_type": "stream",
     "text": [
      "2015-06-08 00:00:00\n",
      "995\n"
     ]
    }
   ],
   "source": [
    "print(paid_students['777'])\n",
    "print(len(paid_students))"
   ]
  },
  {
   "cell_type": "code",
   "execution_count": 28,
   "metadata": {
    "collapsed": false
   },
   "outputs": [],
   "source": [
    "def remove_cancelled_reg(data):\n",
    "    paid_data=[]\n",
    "    for d in data:\n",
    "        if d['account_key'] in paid_students:\n",
    "            paid_data.append(d)\n",
    "    return paid_data"
   ]
  },
  {
   "cell_type": "code",
   "execution_count": 40,
   "metadata": {
    "collapsed": false
   },
   "outputs": [
    {
     "name": "stdout",
     "output_type": "stream",
     "text": [
      "1293\n",
      "134549\n",
      "3618\n"
     ]
    }
   ],
   "source": [
    "paid_enrollments = remove_cancelled_reg(nonud_enroll)\n",
    "paid_engagement = remove_cancelled_reg(nonud_engagement)\n",
    "paid_projSubmission = remove_cancelled_reg(nonud_projSubmission)\n",
    "print (len(paid_enrollments))\n",
    "print (len(paid_engagement))\n",
    "print (len(paid_projSubmission))"
   ]
  },
  {
   "cell_type": "code",
   "execution_count": 34,
   "metadata": {
    "collapsed": false
   },
   "outputs": [],
   "source": [
    "def within_one_week(join_date, engagement_date):\n",
    "    time_delta = engagement_date - join_date\n",
    "    return time_delta.days < 7\n",
    "\n",
    "paid_engagement_in_first_week = []\n",
    "for engagement_record in paid_engagement:\n",
    "    account_key = engagement_record['account_key']\n",
    "    join_date = paid_students[account_key]\n",
    "    engagement_record_date = engagement_record['utc_date']\n",
    "\n",
    "    if within_one_week(join_date, engagement_record_date):\n",
    "        paid_engagement_in_first_week.append(engagement_record)"
   ]
  },
  {
   "cell_type": "code",
   "execution_count": 35,
   "metadata": {
    "collapsed": false
   },
   "outputs": [
    {
     "data": {
      "text/plain": [
       "17210"
      ]
     },
     "execution_count": 35,
     "metadata": {},
     "output_type": "execute_result"
    }
   ],
   "source": [
    "len(paid_engagement_in_first_week)"
   ]
  },
  {
   "cell_type": "code",
   "execution_count": null,
   "metadata": {
    "collapsed": true
   },
   "outputs": [],
   "source": []
  }
 ],
 "metadata": {
  "kernelspec": {
   "display_name": "Python 3",
   "language": "python",
   "name": "python3"
  },
  "language_info": {
   "codemirror_mode": {
    "name": "ipython",
    "version": 3
   },
   "file_extension": ".py",
   "mimetype": "text/x-python",
   "name": "python",
   "nbconvert_exporter": "python",
   "pygments_lexer": "ipython3",
   "version": "3.5.1"
  }
 },
 "nbformat": 4,
 "nbformat_minor": 0
}
